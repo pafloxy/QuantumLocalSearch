{
 "cells": [
  {
   "cell_type": "code",
   "execution_count": 1,
   "metadata": {},
   "outputs": [],
   "source": [
    "## imports\n",
    "from qiskit import *\n",
    "from qiskit.algorithms import *\n",
    "from qiskit import QuantumRegister, ClassicalRegister, QuantumCircuit\n",
    "from qiskit.circuit import Parameter\n",
    "from qiskit import quantum_info, IBMQ, Aer\n",
    "from qiskit import BasicAer\n",
    "from qiskit.utils import QuantumInstance\n",
    "# backend = BasicAer.get_backend(\"statevector_simulator\")\n",
    "# quantum_instance = QuantumInstance(backend)\n",
    "from qiskit.algorithms import AmplitudeEstimation\n",
    "#from qiskit.ignis.verification.tomography import state_tomography_circuits, StateTomographyFitter\n",
    "from qiskit.visualization import plot_histogram, plot_state_qsphere, plot_bloch_multivector, plot_bloch_vector\n",
    "import numpy as np\n",
    "import math\n",
    "import scipy \n",
    "from scipy.optimize import minimize\n",
    "from numpy import pi\n",
    "import seaborn as sns\n",
    "from IPython.display import Image\n",
    "import matplotlib.pyplot as plt\n",
    "import networkx as nx\n",
    "import itertools"
   ]
  },
  {
   "cell_type": "code",
   "execution_count": 2,
   "metadata": {},
   "outputs": [],
   "source": [
    "# setup simulator using IBM_id\n",
    "# IBMQ.save_account(\"1c62e8a0d2b058d0e797db9c811bc34582df5553e25812301cd1518662c0ab68d2378ac6c197b65f8be944d04b7e7439f034e3926a44fa8088538b3d13782c1a\", overwrite= True)\n",
    "provider = IBMQ.load_account()\n",
    "IBMQ.get_provider(hub='ibm-q-education', group='iit-madras-1', project='quantum-computin')\n",
    "# setup required backends \n",
    "lima = provider.get_backend('ibmq_lima')\n",
    "manila = provider.get_backend('ibmq_manila')\n",
    "qsm_simulator = Aer.get_backend('qasm_simulator')\n",
    "stv_simulator = Aer.get_backend('statevector_simulator')\n",
    "aer = Aer.get_backend('aer_simulator')\n"
   ]
  },
  {
   "cell_type": "markdown",
   "metadata": {},
   "source": [
    "### QLS for Maximum Independent Set"
   ]
  },
  {
   "cell_type": "code",
   "execution_count": 9,
   "metadata": {},
   "outputs": [
    {
     "data": {
      "image/png": "[encoded data removed]",
      "text/plain": [
       "<Figure size 432x288 with 1 Axes>"
      ]
     },
     "metadata": {},
     "output_type": "display_data"
    }
   ],
   "source": [
    "## initiate a random erdos-renyi graph ~\n",
    "n = 10\n",
    "p_val = 0.3\n",
    "seed = 54580324\n",
    "graph = nx.erdos_renyi_graph(n,p_val, seed= seed)\n",
    "nx.draw(graph, with_labels= True, alpha= 0.8, node_size= 500)\n",
    "\n",
    "\n",
    "config = {}\n",
    "for node in list(graph.nodes) : config[node] = 0\n",
    "nx.set_node_attributes(graph, config, name= 'val') ## attribute 'val' = 1/0 indicate included/not-included in set \n",
    "\n",
    "\n",
    "# plt.figure(figsize= (10,7))\n",
    "# pos = nx.spring_layout(graph)\n",
    "# nx.draw_networkx_nodes(graph,pos, node_color= \"tab:blue\", alpha= 0.8, node_size= 500)\n",
    "# nx.draw_networkx_edges(graph,pos, width=1.0, alpha=0.5)\n",
    "# nx.draw_networkx_labels(graph, pos, config)\n",
    "# plt.show()"
   ]
  },
  {
   "cell_type": "code",
   "execution_count": 10,
   "metadata": {},
   "outputs": [],
   "source": [
    "## define helper functions ~\n",
    "def generate_cost_gate_mis(subgraph: nx.Graph, mappings, gamma):\n",
    "    \"\"\" function to genrate cost unitary for the MIS problem\n",
    "        ARGS:\n",
    "            subgraph: subgraph for the particular iteration\n",
    "            gamma: value of paramters gamma\n",
    "    \"\"\"\n",
    "    qreg = QuantumRegister( subgraph.number_of_nodes() ,name= 'qreg')\n",
    "    qc = QuantumCircuit(qreg, name= 'cost ')\n",
    "    \n",
    "    for qubit in qreg:\n",
    "        qc.rz(gamma, qubit)\n",
    "\n",
    "    return qc\n",
    "    \n",
    "def cost_expectation_mis(params_t, betas,  qc_t: QuantumCircuit , backend= qsm_simulator, shots  =1024 ):\n",
    "    \n",
    "    params_assignment_dic = dict(list(zip(betas.values(), params_t[:-1])))\n",
    "    params_assignment_dic[gamma] = params_t[-1]\n",
    "    \n",
    "    qc_t = qc_t.assign_parameters(params_assignment_dic)    \n",
    "    \n",
    "    ## measurements ~\n",
    "    qc_t.measure_all()\n",
    "    counts = execute(qc_t, backend= backend, shots= shots).result().get_counts()\n",
    "\n",
    "    ## calculate expectation of cost ~\n",
    "    cost = 0\n",
    "    # shots = sum(list(counts.values()))\n",
    "    for state in list(counts.keys()):\n",
    "        hamming_weight = state.count(1)\n",
    "        cost += (counts[state]/shots)*hamming_weight\n",
    "\n",
    "    return -1*cost\n",
    "    \n",
    "def generate_ansatz_mixers(subgraph: nx.Graph, mixer_action_nodes: set, mappings,  betas  ):\n",
    "    \"\"\" function to generate mixer untaries for the given 'subgraph' for the MIS problem\n",
    "        ARGS:\n",
    "            subgraph: subgraph for the particular iteration\n",
    "            mixer_action_nodes: set of nodes on which the mixer unitaries will work\n",
    "            mappings: mapping nodes to qubits\n",
    "            betas: value of paramters betas\n",
    "        RETURNS:\n",
    "            list of mixer unitaries \"\"\"\n",
    "\n",
    "    num_qubits = subgraph.number_of_nodes()\n",
    "    # mappings = dict(zip(subgraph.nodes, range(num_qubits) ))\n",
    "\n",
    "    qreg = QuantumRegister(num_qubits, name= 'nodes')\n",
    "    # creg = ClassicalRegister(num_qubits, name= 'creg_nodes')\n",
    "\n",
    "    mixer_gates = {}\n",
    "    for node in mixer_action_nodes:\n",
    "        qc = QuantumCircuit(qreg,  name= 'mixer_'+ str(node))\n",
    "        neighbors = [ mappings[nbr_node] for nbr_node in subgraph.neighbors(node) ]\n",
    "\n",
    "        qc.mcrx(betas[node], neighbors, mappings[node] )   \n",
    "        mixer_gates[node] = qc                        \n",
    "\n",
    "    return mixer_gates\n"
   ]
  },
  {
   "cell_type": "code",
   "execution_count": 8,
   "metadata": {},
   "outputs": [
    {
     "data": {
      "text/plain": [
       "(7,\n",
       " {0: 0, 1: 1, 2: 2, 3: 3, 5: 4, 6: 5, 7: 6, 8: 7, 9: 8},\n",
       " {0, 1, 2, 5, 6, 7, 8, 9},\n",
       " {0: <qiskit.circuit.quantumcircuit.QuantumCircuit at 0x7f66de0127d0>,\n",
       "  1: <qiskit.circuit.quantumcircuit.QuantumCircuit at 0x7f673d4bb1f0>,\n",
       "  2: <qiskit.circuit.quantumcircuit.QuantumCircuit at 0x7f673d453460>,\n",
       "  5: <qiskit.circuit.quantumcircuit.QuantumCircuit at 0x7f66de0139d0>,\n",
       "  6: <qiskit.circuit.quantumcircuit.QuantumCircuit at 0x7f66de012410>,\n",
       "  7: <qiskit.circuit.quantumcircuit.QuantumCircuit at 0x7f66d7bbe950>,\n",
       "  8: <qiskit.circuit.quantumcircuit.QuantumCircuit at 0x7f66d7bbf460>,\n",
       "  9: <qiskit.circuit.quantumcircuit.QuantumCircuit at 0x7f66d7bbf400>})"
      ]
     },
     "execution_count": 8,
     "metadata": {},
     "output_type": "execute_result"
    }
   ],
   "source": [
    "num_qubits = subgraph.number_of_nodes()\n",
    "mappings = dict(zip(subgraph.nodes, range(num_qubits) ))\n",
    "\n",
    "qreg = QuantumRegister(num_qubits, name= 'nodes')\n",
    "# creg = ClassicalRegister(num_qubits, name= 'creg_nodes')\n",
    "\n",
    "mixers_gates = {}\n",
    "for node in mixer_action_nodes:\n",
    "    qc = QuantumCircuit(qreg,  name= 'mixer_'+ str(node))\n",
    "    neighbors = [ mappings[nbr_node] for nbr_node in subgraph.neighbors(node) ]\n",
    "\n",
    "    qc.mcrx(betas[node], neighbors, mappings[node] )   \n",
    "    mixers_gates[node] = qc                        \n",
    "\n",
    "n_root, mappings, mixer_action_nodes, mixers_gates"
   ]
  },
  {
   "cell_type": "code",
   "execution_count": 7,
   "metadata": {},
   "outputs": [],
   "source": [
    "##init ~\n",
    "num_repetition = 1\n",
    "\n",
    "## neighbourhood configs ~\n",
    "nbrhd_depth = 2\n",
    "\n",
    "## neighbourhood construction ~\n",
    "n_root= np.random.choice(graph.nodes)\n",
    "nbrhd = set(graph.neighbors(n_root))\n",
    "for depth in range(nbrhd_depth-1):\n",
    "    # print(depth)\n",
    "    # print(nbrhd)\n",
    "    for nbr in nbrhd.copy():\n",
    "        # print(nbr)\n",
    "        nbrhd.update(graph.neighbors(nbr) )    \n",
    "        # print(nbrhd)\n",
    "subgraph = graph.subgraph(nbrhd)\n",
    "\n",
    "## initialize neighbourhood circuit ~\n",
    "num_qubits= subgraph.number_of_nodes()\n",
    "qc= QuantumCircuit()\n",
    "for node in subgraph.nodes :\n",
    "    qc.add_register(QuantumRegister(1, name= 'node: '+str(node)) )\n",
    "qc.add_register(ClassicalRegister(num_qubits, name= 'creg_nodes') )\n",
    "\n",
    "## node to qubit mappings ~\n",
    "mappings = dict(zip(subgraph.nodes, range(num_qubits) ))\n",
    "\n",
    "## intialize circuit with current values of nodes ~\n",
    "for node in subgraph.nodes : \n",
    "    if subgraph.nodes[node]['val'] == 1: qc.x(mappings[node])\n",
    "\n",
    "## neighbourhood ansatz ~\n",
    "mixer_action_nodes = { node for node in subgraph.nodes if list(graph.neighbors(node)) == list(subgraph.neighbors(node))  }\n",
    "betas = dict([( node, Parameter('beta: '+str(node)) ) for node in mixer_action_nodes])\n",
    "gamma = Parameter('gamma')\n",
    "\n",
    "## construct mixers ~\n",
    "mixer_gates = generate_ansatz_mixers(subgraph, mixer_action_nodes, mappings,  betas)\n",
    "\n",
    "for repeat in range(num_repetition):\n",
    "    \n",
    "    ## copy original circuit ~ \n",
    "    qc_t = qc.copy(name= 'qc :'+str(repeat))\n",
    "\n",
    "    ## construct QLS circuit ~\n",
    "    partial_mixer_order = list(itertools.permutations(mixer_gates.keys()))[np.random.randint(low=0,high= math.factorial(len(mixer_gates))  )]\n",
    "    \n",
    "    for mixer_on_node in partial_mixer_order:\n",
    "        qc_t.compose( mixer_gates[mixer_on_node].to_gate(), inplace= True)  \n",
    "    qc_t.barrier()\n",
    "    cost_unitary = generate_cost_gate_mis(subgraph, mappings, gamma)\n",
    "    qc_t.compose(cost_unitary, inplace = True)\n",
    "\n",
    "    ## setup params ~\n",
    "    betas_t = np.random.uniform(low=0, high= 2*pi, size= len(betas))\n",
    "    gamma_t = np.random.uniform(low=0, high= 2*pi) \n",
    "    params_t = np.append(betas_t, gamma_t)\n",
    "    \n",
    "    # params_assignment_dic = dict(list(zip(betas.values(), params_t[:-1])))\n",
    "    # params_assignment_dic[gamma] = params_t[-1]\n",
    "    # qc_t = qc_t.assign_parameters(params_assignment_dic)    \n",
    "\n",
    "    ## paramter optimisation ~\n",
    "    # optimisation = minimize( cost_expectation_mis, params_t, (betas, qc_t), method= 'COBYLA' )\n",
    "    \n",
    "\n",
    "\n"
   ]
  },
  {
   "cell_type": "code",
   "execution_count": 33,
   "metadata": {},
   "outputs": [],
   "source": [
    "qc_t = qc_t.assign_parameters(params_assignment_dic)"
   ]
  },
  {
   "cell_type": "code",
   "execution_count": 28,
   "metadata": {},
   "outputs": [
    {
     "data": {
      "text/html": [
       "<pre style=\"word-wrap: normal;white-space: pre;background: #fff0;line-height: 1.1;font-family: &quot;Courier New&quot;,Courier,monospace\">              ┌────────────────────────────┐┌────────────────────────────┐ ░ »\n",
       "     node: 0: ┤0                           ├┤0                           ├─░─»\n",
       "              │                            ││                            │ ░ »\n",
       "     node: 1: ┤1                           ├┤1                           ├─░─»\n",
       "              │                            ││                            │ ░ »\n",
       "     node: 2: ┤2                           ├┤2                           ├─░─»\n",
       "              │  mixer_0(2.54773224285694) ││  mixer_7(5.38999134812801) │ ░ »\n",
       "     node: 5: ┤3                           ├┤3                           ├─░─»\n",
       "              │                            ││                            │ ░ »\n",
       "     node: 6: ┤4                           ├┤4                           ├─░─»\n",
       "              │                            ││                            │ ░ »\n",
       "     node: 7: ┤5                           ├┤5                           ├─░─»\n",
       "              └────────────────────────────┘└────────────────────────────┘ ░ »\n",
       "creg_nodes: 6/═══════════════════════════════════════════════════════════════»\n",
       "                                                                             »\n",
       "«              ┌──────────────────────┐\n",
       "«     node: 0: ┤ Rz(1.88806134256224) ├\n",
       "«              ├──────────────────────┤\n",
       "«     node: 1: ┤ Rz(1.88806134256224) ├\n",
       "«              ├──────────────────────┤\n",
       "«     node: 2: ┤ Rz(1.88806134256224) ├\n",
       "«              ├──────────────────────┤\n",
       "«     node: 5: ┤ Rz(1.88806134256224) ├\n",
       "«              ├──────────────────────┤\n",
       "«     node: 6: ┤ Rz(1.88806134256224) ├\n",
       "«              ├──────────────────────┤\n",
       "«     node: 7: ┤ Rz(1.88806134256224) ├\n",
       "«              └──────────────────────┘\n",
       "«creg_nodes: 6/════════════════════════\n",
       "«                                      </pre>"
      ],
      "text/plain": [
       "              ┌────────────────────────────┐┌────────────────────────────┐ ░ »\n",
       "     node: 0: ┤0                           ├┤0                           ├─░─»\n",
       "              │                            ││                            │ ░ »\n",
       "     node: 1: ┤1                           ├┤1                           ├─░─»\n",
       "              │                            ││                            │ ░ »\n",
       "     node: 2: ┤2                           ├┤2                           ├─░─»\n",
       "              │  mixer_0(2.54773224285694) ││  mixer_7(5.38999134812801) │ ░ »\n",
       "     node: 5: ┤3                           ├┤3                           ├─░─»\n",
       "              │                            ││                            │ ░ »\n",
       "     node: 6: ┤4                           ├┤4                           ├─░─»\n",
       "              │                            ││                            │ ░ »\n",
       "     node: 7: ┤5                           ├┤5                           ├─░─»\n",
       "              └────────────────────────────┘└────────────────────────────┘ ░ »\n",
       "creg_nodes: 6/═══════════════════════════════════════════════════════════════»\n",
       "                                                                             »\n",
       "«              ┌──────────────────────┐\n",
       "«     node: 0: ┤ Rz(1.88806134256224) ├\n",
       "«              ├──────────────────────┤\n",
       "«     node: 1: ┤ Rz(1.88806134256224) ├\n",
       "«              ├──────────────────────┤\n",
       "«     node: 2: ┤ Rz(1.88806134256224) ├\n",
       "«              ├──────────────────────┤\n",
       "«     node: 5: ┤ Rz(1.88806134256224) ├\n",
       "«              ├──────────────────────┤\n",
       "«     node: 6: ┤ Rz(1.88806134256224) ├\n",
       "«              ├──────────────────────┤\n",
       "«     node: 7: ┤ Rz(1.88806134256224) ├\n",
       "«              └──────────────────────┘\n",
       "«creg_nodes: 6/════════════════════════\n",
       "«                                      "
      ]
     },
     "execution_count": 28,
     "metadata": {},
     "output_type": "execute_result"
    }
   ],
   "source": [
    "qc_t.draw()"
   ]
  },
  {
   "cell_type": "code",
   "execution_count": 29,
   "metadata": {},
   "outputs": [
    {
     "data": {
      "text/plain": [
       "(0, 7)"
      ]
     },
     "execution_count": 29,
     "metadata": {},
     "output_type": "execute_result"
    }
   ],
   "source": [
    "partial_mixer_order"
   ]
  },
  {
   "cell_type": "code",
   "execution_count": 30,
   "metadata": {},
   "outputs": [
    {
     "data": {
      "text/plain": [
       "(ParameterView([]),\n",
       " {Parameter(beta: 0): 2.547732242856943,\n",
       "  Parameter(beta: 7): 5.389991348128013,\n",
       "  Parameter(gamma): 1.8880613425622448})"
      ]
     },
     "execution_count": 30,
     "metadata": {},
     "output_type": "execute_result"
    }
   ],
   "source": [
    "qc_t.parameters, params_assignment_dic"
   ]
  },
  {
   "cell_type": "code",
   "execution_count": 31,
   "metadata": {},
   "outputs": [
    {
     "data": {
      "text/plain": [
       "(array([2.54773224, 5.38999135]),\n",
       " 1.8880613425622448,\n",
       " array([2.54773224, 5.38999135, 1.88806134]))"
      ]
     },
     "execution_count": 31,
     "metadata": {},
     "output_type": "execute_result"
    }
   ],
   "source": [
    "betas_t, gamma_t, params_t"
   ]
  },
  {
   "cell_type": "code",
   "execution_count": 24,
   "metadata": {},
   "outputs": [
    {
     "data": {
      "text/plain": [
       "{1: <qiskit.circuit.quantumcircuit.QuantumCircuit at 0x7f540706bd00>,\n",
       " 2: <qiskit.circuit.quantumcircuit.QuantumCircuit at 0x7f540706b550>,\n",
       " 3: <qiskit.circuit.quantumcircuit.QuantumCircuit at 0x7f540706b4f0>,\n",
       " 4: <qiskit.circuit.quantumcircuit.QuantumCircuit at 0x7f540708d690>,\n",
       " 6: <qiskit.circuit.quantumcircuit.QuantumCircuit at 0x7f540708e1a0>,\n",
       " 9: <qiskit.circuit.quantumcircuit.QuantumCircuit at 0x7f540708e230>}"
      ]
     },
     "execution_count": 24,
     "metadata": {},
     "output_type": "execute_result"
    }
   ],
   "source": [
    "mixer_gates"
   ]
  },
  {
   "cell_type": "code",
   "execution_count": 196,
   "metadata": {},
   "outputs": [
    {
     "data": {
      "text/plain": [
       "{Parameter(beta: 0): 3.888349529406253,\n",
       " Parameter(beta: 1): 2.446549762365972,\n",
       " Parameter(beta: 2): 6.01393672169364,\n",
       " Parameter(beta: 5): 5.331974502734289,\n",
       " Parameter(beta: 6): 3.684450639966006,\n",
       " Parameter(beta: 7): 2.0226361956587002,\n",
       " Parameter(beta: 8): 5.015110025135585,\n",
       " Parameter(beta: 9): 0.08394993521912043}"
      ]
     },
     "execution_count": 196,
     "metadata": {},
     "output_type": "execute_result"
    }
   ],
   "source": [
    "dict(list(zip(betas.values(), betas_t)))"
   ]
  },
  {
   "cell_type": "code",
   "execution_count": 185,
   "metadata": {},
   "outputs": [
    {
     "data": {
      "text/html": [
       "<pre style=\"word-wrap: normal;white-space: pre;background: #fff0;line-height: 1.1;font-family: &quot;Courier New&quot;,Courier,monospace\">              ┌───────────────────┐ ░ ┌────────┐\n",
       "     node: 1: ┤0                  ├─░─┤ Rz(2π) ├\n",
       "              │                   │ ░ ├────────┤\n",
       "     node: 2: ┤1                  ├─░─┤ Rz(2π) ├\n",
       "              │                   │ ░ ├────────┤\n",
       "     node: 3: ┤2                  ├─░─┤ Rz(2π) ├\n",
       "              │                   │ ░ ├────────┤\n",
       "     node: 4: ┤3                  ├─░─┤ Rz(2π) ├\n",
       "              │  mixer_6(beta: 6) │ ░ ├────────┤\n",
       "     node: 5: ┤4                  ├─░─┤ Rz(2π) ├\n",
       "              │                   │ ░ ├────────┤\n",
       "     node: 6: ┤5                  ├─░─┤ Rz(2π) ├\n",
       "              │                   │ ░ ├────────┤\n",
       "     node: 7: ┤6                  ├─░─┤ Rz(2π) ├\n",
       "              │                   │ ░ ├────────┤\n",
       "     node: 9: ┤7                  ├─░─┤ Rz(2π) ├\n",
       "              └───────────────────┘ ░ └────────┘\n",
       "creg_nodes: 8/══════════════════════════════════\n",
       "                                                </pre>"
      ],
      "text/plain": [
       "              ┌───────────────────┐ ░ ┌────────┐\n",
       "     node: 1: ┤0                  ├─░─┤ Rz(2π) ├\n",
       "              │                   │ ░ ├────────┤\n",
       "     node: 2: ┤1                  ├─░─┤ Rz(2π) ├\n",
       "              │                   │ ░ ├────────┤\n",
       "     node: 3: ┤2                  ├─░─┤ Rz(2π) ├\n",
       "              │                   │ ░ ├────────┤\n",
       "     node: 4: ┤3                  ├─░─┤ Rz(2π) ├\n",
       "              │  mixer_6(beta: 6) │ ░ ├────────┤\n",
       "     node: 5: ┤4                  ├─░─┤ Rz(2π) ├\n",
       "              │                   │ ░ ├────────┤\n",
       "     node: 6: ┤5                  ├─░─┤ Rz(2π) ├\n",
       "              │                   │ ░ ├────────┤\n",
       "     node: 7: ┤6                  ├─░─┤ Rz(2π) ├\n",
       "              │                   │ ░ ├────────┤\n",
       "     node: 9: ┤7                  ├─░─┤ Rz(2π) ├\n",
       "              └───────────────────┘ ░ └────────┘\n",
       "creg_nodes: 8/══════════════════════════════════\n",
       "                                                "
      ]
     },
     "execution_count": 185,
     "metadata": {},
     "output_type": "execute_result"
    }
   ],
   "source": [
    "qc_t.assign_parameters({gamma: pi*2}).draw()\n",
    "# betas[5] = pi\n",
    "# qc_t.draw()\n"
   ]
  },
  {
   "cell_type": "code",
   "execution_count": 174,
   "metadata": {},
   "outputs": [
    {
     "data": {
      "text/plain": [
       "ParameterView([Parameter(beta_1), Parameter(beta_2), Parameter(beta_3), Parameter(beta_4), Parameter(beta_6), Parameter(beta_9), Parameter(gamma)])"
      ]
     },
     "execution_count": 174,
     "metadata": {},
     "output_type": "execute_result"
    }
   ],
   "source": [
    "qc.parameters"
   ]
  },
  {
   "cell_type": "code",
   "execution_count": 75,
   "metadata": {},
   "outputs": [
    {
     "data": {
      "text/plain": [
       "True"
      ]
     },
     "execution_count": 75,
     "metadata": {},
     "output_type": "execute_result"
    }
   ],
   "source": [
    "mixer_gates[7] == mixer_gates[partial_mixer_order[0]]"
   ]
  },
  {
   "cell_type": "code",
   "execution_count": 103,
   "metadata": {},
   "outputs": [
    {
     "data": {
      "text/plain": [
       "2"
      ]
     },
     "execution_count": 103,
     "metadata": {},
     "output_type": "execute_result"
    }
   ],
   "source": [
    "s = '101'\n",
    "s.count('1')"
   ]
  },
  {
   "cell_type": "code",
   "execution_count": 140,
   "metadata": {},
   "outputs": [
    {
     "data": {
      "text/plain": [
       "({0, 1, 2, 6, 7, 9}, NodeView((0, 1, 2, 3, 5, 6, 7, 9)))"
      ]
     },
     "execution_count": 140,
     "metadata": {},
     "output_type": "execute_result"
    }
   ],
   "source": [
    "ansatz_set, subgraph.nodes"
   ]
  },
  {
   "cell_type": "code",
   "execution_count": 141,
   "metadata": {},
   "outputs": [
    {
     "data": {
      "text/plain": [
       "False"
      ]
     },
     "execution_count": 141,
     "metadata": {},
     "output_type": "execute_result"
    }
   ],
   "source": [
    "n = 3\n",
    "list(graph.neighbors(n)) == list(subgraph.neighbors(n))"
   ]
  },
  {
   "cell_type": "code",
   "execution_count": 149,
   "metadata": {},
   "outputs": [],
   "source": [
    "qreg1 =QuantumRegister(1)\n",
    "qreg2 = QuantumRegister(2)\n",
    "\n",
    "qc = QuantumCircuit(qreg1, qreg2)"
   ]
  },
  {
   "cell_type": "code",
   "execution_count": 103,
   "metadata": {},
   "outputs": [
    {
     "data": {
      "text/plain": [
       "0"
      ]
     },
     "execution_count": 103,
     "metadata": {},
     "output_type": "execute_result"
    }
   ],
   "source": [
    "nbrhd\n",
    "graph.nodes[2]['val']"
   ]
  },
  {
   "cell_type": "code",
   "execution_count": 150,
   "metadata": {},
   "outputs": [],
   "source": [
    "qc.add_register(QuantumRegister(2))"
   ]
  },
  {
   "cell_type": "code",
   "execution_count": 151,
   "metadata": {},
   "outputs": [
    {
     "data": {
      "text/html": [
       "<pre style=\"word-wrap: normal;white-space: pre;background: #fff0;line-height: 1.1;font-family: &quot;Courier New&quot;,Courier,monospace\">      \n",
       "  q5: \n",
       "      \n",
       "q6_0: \n",
       "      \n",
       "q6_1: \n",
       "      \n",
       "q7_0: \n",
       "      \n",
       "q7_1: \n",
       "      </pre>"
      ],
      "text/plain": [
       "      \n",
       "  q5: \n",
       "      \n",
       "q6_0: \n",
       "      \n",
       "q6_1: \n",
       "      \n",
       "q7_0: \n",
       "      \n",
       "q7_1: \n",
       "      "
      ]
     },
     "execution_count": 151,
     "metadata": {},
     "output_type": "execute_result"
    }
   ],
   "source": [
    "qc.draw()"
   ]
  },
  {
   "cell_type": "code",
   "execution_count": 152,
   "metadata": {},
   "outputs": [
    {
     "data": {
      "text/plain": [
       "[1, 3, 4, 6]"
      ]
     },
     "execution_count": 152,
     "metadata": {},
     "output_type": "execute_result"
    }
   ],
   "source": [
    "set = {3,6,1,4}\n",
    "list(set)"
   ]
  },
  {
   "cell_type": "code",
   "execution_count": 161,
   "metadata": {},
   "outputs": [],
   "source": [
    "it = enumerate(set)"
   ]
  },
  {
   "cell_type": "code",
   "execution_count": 162,
   "metadata": {},
   "outputs": [
    {
     "data": {
      "text/plain": [
       "[(0, 1), (1, 3), (2, 4), (3, 6)]"
      ]
     },
     "execution_count": 162,
     "metadata": {},
     "output_type": "execute_result"
    }
   ],
   "source": [
    "l = list(it)\n",
    "l"
   ]
  },
  {
   "cell_type": "code",
   "execution_count": 165,
   "metadata": {},
   "outputs": [
    {
     "data": {
      "text/plain": [
       "1"
      ]
     },
     "execution_count": 165,
     "metadata": {},
     "output_type": "execute_result"
    }
   ],
   "source": [
    "l[0][1]"
   ]
  },
  {
   "cell_type": "code",
   "execution_count": null,
   "metadata": {},
   "outputs": [],
   "source": []
  }
 ],
 "metadata": {
  "kernelspec": {
   "display_name": "Python 3.10.4 64-bit",
   "language": "python",
   "name": "python3"
  },
  "language_info": {
   "codemirror_mode": {
    "name": "ipython",
    "version": 3
   },
   "file_extension": ".py",
   "mimetype": "text/x-python",
   "name": "python",
   "nbconvert_exporter": "python",
   "pygments_lexer": "ipython3",
   "version": "3.10.4"
  },
  "orig_nbformat": 4,
  "vscode": {
   "interpreter": {
    "hash": "916dbcbb3f70747c44a77c7bcd40155683ae19c65e1c03b4aa3499c5328201f1"
   }
  }
 },
 "nbformat": 4,
 "nbformat_minor": 2
}
