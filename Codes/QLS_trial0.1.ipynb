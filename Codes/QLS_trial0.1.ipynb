{
 "cells": [
  {
   "cell_type": "code",
   "execution_count": 26,
   "metadata": {},
   "outputs": [],
   "source": [
    "## imports\n",
    "from qiskit import *\n",
    "from qiskit.algorithms import *\n",
    "from qiskit import QuantumRegister, ClassicalRegister, QuantumCircuit, execute\n",
    "from qiskit.circuit import Parameter\n",
    "from qiskit import quantum_info, IBMQ, Aer\n",
    "from qiskit import BasicAer\n",
    "from qiskit.utils import QuantumInstance\n",
    "# backend = BasicAer.get_backend(\"statevector_simulator\")\n",
    "# quantum_instance = QuantumInstance(backend)\n",
    "from qiskit.algorithms import AmplitudeEstimation\n",
    "#from qiskit.ignis.verification.tomography import state_tomography_circuits, StateTomographyFitter\n",
    "from qiskit.visualization import plot_histogram, plot_state_qsphere, plot_bloch_multivector, plot_bloch_vector\n",
    "import numpy as np\n",
    "import math\n",
    "import scipy \n",
    "from scipy.optimize import minimize\n",
    "from numpy import pi\n",
    "import seaborn as sns\n",
    "from IPython.display import Image\n",
    "import matplotlib.pyplot as plt\n",
    "import networkx as nx\n",
    "import itertools"
   ]
  },
  {
   "cell_type": "code",
   "execution_count": 2,
   "metadata": {},
   "outputs": [],
   "source": [
    "# setup simulator using IBM_id\n",
    "IBMQ.save_account(\"1c62e8a0d2b058d0e797db9c811bc34582df5553e25812301cd1518662c0ab68d2378ac6c197b65f8be944d04b7e7439f034e3926a44fa8088538b3d13782c1a\", overwrite= True)\n",
    "provider = IBMQ.load_account()\n",
    "IBMQ.get_provider(hub='ibm-q-education', group='iit-madras-1', project='quantum-computin')\n",
    "# setup required backends \n",
    "lima = provider.get_backend('ibmq_lima')\n",
    "manila = provider.get_backend('ibmq_manila')\n",
    "qsm_simulator = Aer.get_backend('qasm_simulator')\n",
    "stv_simulator = Aer.get_backend('statevector_simulator')\n",
    "aer = Aer.get_backend('aer_simulator')\n"
   ]
  },
  {
   "cell_type": "markdown",
   "metadata": {},
   "source": [
    "### QLS for Maximum Independent Set"
   ]
  },
  {
   "cell_type": "code",
   "execution_count": 3,
   "metadata": {},
   "outputs": [
    {
     "data": {
      "image/png": "[encoded data removed]",
      "text/plain": [
       "<Figure size 432x288 with 1 Axes>"
      ]
     },
     "metadata": {},
     "output_type": "display_data"
    }
   ],
   "source": [
    "## initiate a random erdos-renyi graph ~\n",
    "n = 10\n",
    "p_val = 0.3\n",
    "seed = 54580324\n",
    "graph = nx.erdos_renyi_graph(n,p_val, seed= seed)\n",
    "nx.draw(graph, with_labels= True, alpha= 0.8, node_size= 500)\n",
    "\n",
    "\n",
    "config = {}\n",
    "for node in list(graph.nodes) : config[node] = 0\n",
    "nx.set_node_attributes(graph, config, name= 'val') ## attribute 'val' = 1/0 indicate included/not-included in set \n",
    "\n",
    "\n",
    "# plt.figure(figsize= (10,7))\n",
    "# pos = nx.spring_layout(graph)\n",
    "# nx.draw_networkx_nodes(graph,pos, node_color= \"tab:blue\", alpha= 0.8, node_size= 500)\n",
    "# nx.draw_networkx_edges(graph,pos, width=1.0, alpha=0.5)\n",
    "# nx.draw_networkx_labels(graph, pos, config)\n",
    "# plt.show()"
   ]
  },
  {
   "cell_type": "code",
   "execution_count": 27,
   "metadata": {},
   "outputs": [],
   "source": [
    "## define helper functions ~\n",
    "def generate_cost_gate_mis(subgraph: nx.Graph, mappings, gamma):\n",
    "    \"\"\" function to genrate cost unitary for the MIS problem\n",
    "        ARGS:\n",
    "            subgraph: subgraph for the particular iteration\n",
    "            gamma: value of paramters gamma\n",
    "    \"\"\"\n",
    "    qreg = QuantumRegister( subgraph.number_of_nodes() , name= 'qreg')\n",
    "    qc = QuantumCircuit(qreg, name= 'cost ')\n",
    "    \n",
    "    for qubit in qreg:\n",
    "        qc.rz(gamma, qubit)\n",
    "\n",
    "    return qc\n",
    "    \n",
    "def cost_expectation_mis(params_t, betas,  qc: QuantumCircuit , backend= qsm_simulator, shots= 1024 ):\n",
    "    \n",
    "\n",
    "    print(qc.parameters) ## set probe\n",
    "    \n",
    "    ## create parameter assignment dictionary ~\n",
    "    params_assignment_dic = dict(list(zip(betas.values(), params_t[:-1])))\n",
    "    params_assignment_dic[gamma] = params_t[-1]\n",
    "\n",
    "    print(params_assignment_dic) ## set probe \n",
    "    \n",
    "    ## create copy of circuit for interation ~\n",
    "    # qc_t = qc.copy()\n",
    "    qc_t = qc.bind_parameters(params_assignment_dic)    \n",
    "\n",
    "    print(qc_t.parameters) ## set probe\n",
    "    \n",
    "    ## measurements ~\n",
    "    qc_t.measure_all()\n",
    "    counts = execute(qc_t, backend= backend, shots= shots).result().get_counts()\n",
    "    print('counts :' , counts) ## set probe\n",
    "\n",
    "    ## calculate expectation of cost ~\n",
    "    cost = 0\n",
    "    # shots = sum(list(counts.values()))\n",
    "    for state in list(counts.keys()):\n",
    "        hamming_weight = state.count(1)\n",
    "        cost += (counts[state]/shots)*hamming_weight\n",
    "\n",
    "    print('cost :', cost) ## set probe\n",
    "\n",
    "    return -1*cost\n",
    "     \n",
    "def generate_ansatz_mixers(subgraph: nx.Graph, mixer_action_nodes: set, mappings: dict,  betas  ):\n",
    "    \"\"\" function to generate mixer unitaries for the given 'subgraph' for the MIS problem\n",
    "        ARGS:\n",
    "            subgraph: subgraph for the particular iteration\n",
    "            mixer_action_nodes: set of nodes on which the mixer unitaries will work\n",
    "            mappings: mapping nodes to qubits\n",
    "            betas: value of paramters betas\n",
    "        RETURNS:\n",
    "            list of mixer unitaries \"\"\"\n",
    "\n",
    "    num_qubits = subgraph.number_of_nodes()\n",
    "    # mappings = dict(zip(subgraph.nodes, range(num_qubits) ))\n",
    "\n",
    "    qreg = QuantumRegister(num_qubits, name= 'nodes')\n",
    "    # creg = ClassicalRegister(num_qubits, name= 'creg_nodes')\n",
    "\n",
    "    mixer_gates = {}\n",
    "    for node in mixer_action_nodes:\n",
    "        qc = QuantumCircuit(qreg,  name= 'mixer_'+ str(node))\n",
    "        neighbors = [ mappings[nbr_node] for nbr_node in subgraph.neighbors(node) ]\n",
    "\n",
    "        qc.mcrx(betas[node], neighbors, mappings[node] )   \n",
    "        mixer_gates[node] = qc                        \n",
    "\n",
    "    return mixer_gates\n"
   ]
  },
  {
   "cell_type": "code",
   "execution_count": 21,
   "metadata": {},
   "outputs": [
    {
     "data": {
      "text/plain": [
       "(4,\n",
       " {1: 0, 2: 1, 3: 2, 4: 3, 9: 4},\n",
       " {3, 4},\n",
       " {3: <qiskit.circuit.quantumcircuit.QuantumCircuit at 0x7ff42b8ea680>,\n",
       "  4: <qiskit.circuit.quantumcircuit.QuantumCircuit at 0x7ff451155fc0>})"
      ]
     },
     "execution_count": 21,
     "metadata": {},
     "output_type": "execute_result"
    }
   ],
   "source": [
    "num_qubits = subgraph.number_of_nodes()\n",
    "mappings = dict(zip(subgraph.nodes, range(num_qubits) ))\n",
    "\n",
    "qreg = QuantumRegister(num_qubits, name= 'nodes')\n",
    "# creg = ClassicalRegister(num_qubits, name= 'creg_nodes')\n",
    "\n",
    "mixers_gates = {}\n",
    "for node in mixer_action_nodes:\n",
    "    qc = QuantumCircuit(qreg,  name= 'mixer_'+ str(node))\n",
    "    neighbors = [ mappings[nbr_node] for nbr_node in subgraph.neighbors(node) ]\n",
    "\n",
    "    qc.mcrx(betas[node], neighbors, mappings[node] )   \n",
    "    mixers_gates[node] = qc                        \n",
    "\n",
    "n_root, mappings, mixer_action_nodes, mixers_gates"
   ]
  },
  {
   "cell_type": "code",
   "execution_count": 28,
   "metadata": {},
   "outputs": [
    {
     "name": "stdout",
     "output_type": "stream",
     "text": [
      "ParameterView([Parameter(beta: 5), Parameter(beta: 8), Parameter(gamma)])\n",
      "{Parameter(beta: 8): 1.296900989120203, Parameter(beta: 5): 3.2797674642545562, Parameter(gamma): 2.2403433184801966}\n",
      "ParameterView([])\n"
     ]
    },
    {
     "name": "stderr",
     "output_type": "stream",
     "text": [
      "capi_return is NULL\n",
      "Call-back cb_calcfc_in__cobyla__user__routines failed.\n"
     ]
    },
    {
     "ename": "QiskitError",
     "evalue": "'Mismatch between run_config.parameter_binds and all circuit parameters. Parameter binds: [] Circuit parameters: [ParameterView([Parameter(beta: 5), Parameter(beta: 8)])]'",
     "output_type": "error",
     "traceback": [
      "\u001b[0;31m---------------------------------------------------------------------------\u001b[0m",
      "\u001b[0;31mQiskitError\u001b[0m                               Traceback (most recent call last)",
      "\u001b[1;32m/home/tomesh/rajarsi/QLS_trial0.1.ipynb Cell 7\u001b[0m in \u001b[0;36m<cell line: 41>\u001b[0;34m()\u001b[0m\n\u001b[1;32m     <a href='vscode-notebook-cell:/home/tomesh/rajarsi/QLS_trial0.1.ipynb#ch0000007?line=57'>58</a>\u001b[0m params_t \u001b[39m=\u001b[39m np\u001b[39m.\u001b[39mappend(betas_t, gamma_t)\n\u001b[1;32m     <a href='vscode-notebook-cell:/home/tomesh/rajarsi/QLS_trial0.1.ipynb#ch0000007?line=59'>60</a>\u001b[0m \u001b[39m# params_assignment_dic = dict(list(zip(betas.values(), params_t[:-1])))\u001b[39;00m\n\u001b[1;32m     <a href='vscode-notebook-cell:/home/tomesh/rajarsi/QLS_trial0.1.ipynb#ch0000007?line=60'>61</a>\u001b[0m \u001b[39m# params_assignment_dic[gamma] = params_t[-1]\u001b[39;00m\n\u001b[1;32m     <a href='vscode-notebook-cell:/home/tomesh/rajarsi/QLS_trial0.1.ipynb#ch0000007?line=61'>62</a>\u001b[0m \u001b[39m# qc_t = qc_t.assign_parameters(params_assignment_dic)    \u001b[39;00m\n\u001b[1;32m     <a href='vscode-notebook-cell:/home/tomesh/rajarsi/QLS_trial0.1.ipynb#ch0000007?line=62'>63</a>\u001b[0m \n\u001b[1;32m     <a href='vscode-notebook-cell:/home/tomesh/rajarsi/QLS_trial0.1.ipynb#ch0000007?line=63'>64</a>\u001b[0m \u001b[39m## paramter optimisation ~\u001b[39;00m\n\u001b[0;32m---> <a href='vscode-notebook-cell:/home/tomesh/rajarsi/QLS_trial0.1.ipynb#ch0000007?line=64'>65</a>\u001b[0m optimisation \u001b[39m=\u001b[39m minimize( cost_expectation_mis, params_t, (betas, qc_t), method\u001b[39m=\u001b[39;49m \u001b[39m'\u001b[39;49m\u001b[39mCOBYLA\u001b[39;49m\u001b[39m'\u001b[39;49m )\n",
      "File \u001b[0;32m~/.local/lib/python3.10/site-packages/scipy/optimize/_minimize.py:698\u001b[0m, in \u001b[0;36mminimize\u001b[0;34m(fun, x0, args, method, jac, hess, hessp, bounds, constraints, tol, callback, options)\u001b[0m\n\u001b[1;32m    695\u001b[0m     res \u001b[39m=\u001b[39m _minimize_tnc(fun, x0, args, jac, bounds, callback\u001b[39m=\u001b[39mcallback,\n\u001b[1;32m    696\u001b[0m                         \u001b[39m*\u001b[39m\u001b[39m*\u001b[39moptions)\n\u001b[1;32m    697\u001b[0m \u001b[39melif\u001b[39;00m meth \u001b[39m==\u001b[39m \u001b[39m'\u001b[39m\u001b[39mcobyla\u001b[39m\u001b[39m'\u001b[39m:\n\u001b[0;32m--> 698\u001b[0m     res \u001b[39m=\u001b[39m _minimize_cobyla(fun, x0, args, constraints, callback\u001b[39m=\u001b[39;49mcallback,\n\u001b[1;32m    699\u001b[0m                             \u001b[39m*\u001b[39;49m\u001b[39m*\u001b[39;49moptions)\n\u001b[1;32m    700\u001b[0m \u001b[39melif\u001b[39;00m meth \u001b[39m==\u001b[39m \u001b[39m'\u001b[39m\u001b[39mslsqp\u001b[39m\u001b[39m'\u001b[39m:\n\u001b[1;32m    701\u001b[0m     res \u001b[39m=\u001b[39m _minimize_slsqp(fun, x0, args, jac, bounds,\n\u001b[1;32m    702\u001b[0m                           constraints, callback\u001b[39m=\u001b[39mcallback, \u001b[39m*\u001b[39m\u001b[39m*\u001b[39moptions)\n",
      "File \u001b[0;32m~/.local/lib/python3.10/site-packages/scipy/optimize/_cobyla_py.py:34\u001b[0m, in \u001b[0;36msynchronized.<locals>.wrapper\u001b[0;34m(*args, **kwargs)\u001b[0m\n\u001b[1;32m     31\u001b[0m \u001b[39m@functools\u001b[39m\u001b[39m.\u001b[39mwraps(func)\n\u001b[1;32m     32\u001b[0m \u001b[39mdef\u001b[39;00m \u001b[39mwrapper\u001b[39m(\u001b[39m*\u001b[39margs, \u001b[39m*\u001b[39m\u001b[39m*\u001b[39mkwargs):\n\u001b[1;32m     33\u001b[0m     \u001b[39mwith\u001b[39;00m _module_lock:\n\u001b[0;32m---> 34\u001b[0m         \u001b[39mreturn\u001b[39;00m func(\u001b[39m*\u001b[39;49margs, \u001b[39m*\u001b[39;49m\u001b[39m*\u001b[39;49mkwargs)\n",
      "File \u001b[0;32m~/.local/lib/python3.10/site-packages/scipy/optimize/_cobyla_py.py:273\u001b[0m, in \u001b[0;36m_minimize_cobyla\u001b[0;34m(fun, x0, args, constraints, rhobeg, tol, maxiter, disp, catol, callback, **unknown_options)\u001b[0m\n\u001b[1;32m    270\u001b[0m         callback(np\u001b[39m.\u001b[39mcopy(x))\n\u001b[1;32m    272\u001b[0m info \u001b[39m=\u001b[39m np\u001b[39m.\u001b[39mzeros(\u001b[39m4\u001b[39m, np\u001b[39m.\u001b[39mfloat64)\n\u001b[0;32m--> 273\u001b[0m xopt, info \u001b[39m=\u001b[39m cobyla\u001b[39m.\u001b[39;49mminimize(calcfc, m\u001b[39m=\u001b[39;49mm, x\u001b[39m=\u001b[39;49mnp\u001b[39m.\u001b[39;49mcopy(x0), rhobeg\u001b[39m=\u001b[39;49mrhobeg,\n\u001b[1;32m    274\u001b[0m                               rhoend\u001b[39m=\u001b[39;49mrhoend, iprint\u001b[39m=\u001b[39;49miprint, maxfun\u001b[39m=\u001b[39;49mmaxfun,\n\u001b[1;32m    275\u001b[0m                               dinfo\u001b[39m=\u001b[39;49minfo, callback\u001b[39m=\u001b[39;49mwrapped_callback)\n\u001b[1;32m    277\u001b[0m \u001b[39mif\u001b[39;00m info[\u001b[39m3\u001b[39m] \u001b[39m>\u001b[39m catol:\n\u001b[1;32m    278\u001b[0m     \u001b[39m# Check constraint violation\u001b[39;00m\n\u001b[1;32m    279\u001b[0m     info[\u001b[39m0\u001b[39m] \u001b[39m=\u001b[39m \u001b[39m4\u001b[39m\n",
      "File \u001b[0;32m~/.local/lib/python3.10/site-packages/scipy/optimize/_cobyla_py.py:261\u001b[0m, in \u001b[0;36m_minimize_cobyla.<locals>.calcfc\u001b[0;34m(x, con)\u001b[0m\n\u001b[1;32m    260\u001b[0m \u001b[39mdef\u001b[39;00m \u001b[39mcalcfc\u001b[39m(x, con):\n\u001b[0;32m--> 261\u001b[0m     f \u001b[39m=\u001b[39m fun(np\u001b[39m.\u001b[39;49mcopy(x), \u001b[39m*\u001b[39;49margs)\n\u001b[1;32m    262\u001b[0m     i \u001b[39m=\u001b[39m \u001b[39m0\u001b[39m\n\u001b[1;32m    263\u001b[0m     \u001b[39mfor\u001b[39;00m size, c \u001b[39min\u001b[39;00m izip(cons_lengths, constraints):\n",
      "\u001b[1;32m/home/tomesh/rajarsi/QLS_trial0.1.ipynb Cell 7\u001b[0m in \u001b[0;36mcost_expectation_mis\u001b[0;34m(params_t, betas, qc, backend, shots)\u001b[0m\n\u001b[1;32m     <a href='vscode-notebook-cell:/home/tomesh/rajarsi/QLS_trial0.1.ipynb#ch0000007?line=32'>33</a>\u001b[0m \u001b[39m## measurements ~\u001b[39;00m\n\u001b[1;32m     <a href='vscode-notebook-cell:/home/tomesh/rajarsi/QLS_trial0.1.ipynb#ch0000007?line=33'>34</a>\u001b[0m qc_t\u001b[39m.\u001b[39mmeasure_all()\n\u001b[0;32m---> <a href='vscode-notebook-cell:/home/tomesh/rajarsi/QLS_trial0.1.ipynb#ch0000007?line=34'>35</a>\u001b[0m counts \u001b[39m=\u001b[39m execute(qc_t, backend\u001b[39m=\u001b[39;49m backend, shots\u001b[39m=\u001b[39;49m shots)\u001b[39m.\u001b[39mresult()\u001b[39m.\u001b[39mget_counts()\n\u001b[1;32m     <a href='vscode-notebook-cell:/home/tomesh/rajarsi/QLS_trial0.1.ipynb#ch0000007?line=35'>36</a>\u001b[0m \u001b[39mprint\u001b[39m(\u001b[39m'\u001b[39m\u001b[39mcounts :\u001b[39m\u001b[39m'\u001b[39m , counts) \u001b[39m## set probe\u001b[39;00m\n\u001b[1;32m     <a href='vscode-notebook-cell:/home/tomesh/rajarsi/QLS_trial0.1.ipynb#ch0000007?line=37'>38</a>\u001b[0m \u001b[39m## calculate expectation of cost ~\u001b[39;00m\n",
      "File \u001b[0;32m~/.local/lib/python3.10/site-packages/qiskit/execute_function.py:375\u001b[0m, in \u001b[0;36mexecute\u001b[0;34m(experiments, backend, basis_gates, coupling_map, backend_properties, initial_layout, seed_transpiler, optimization_level, pass_manager, qobj_id, qobj_header, shots, memory, max_credits, seed_simulator, default_qubit_los, default_meas_los, qubit_lo_range, meas_lo_range, schedule_los, meas_level, meas_return, memory_slots, memory_slot_size, rep_time, rep_delay, parameter_binds, schedule_circuit, inst_map, meas_map, scheduling_method, init_qubits, **run_config)\u001b[0m\n\u001b[1;32m    373\u001b[0m     run_kwargs[\u001b[39m\"\u001b[39m\u001b[39mparameter_binds\u001b[39m\u001b[39m\"\u001b[39m] \u001b[39m=\u001b[39m parameter_binds\n\u001b[1;32m    374\u001b[0m run_kwargs\u001b[39m.\u001b[39mupdate(run_config)\n\u001b[0;32m--> 375\u001b[0m job \u001b[39m=\u001b[39m backend\u001b[39m.\u001b[39;49mrun(experiments, \u001b[39m*\u001b[39;49m\u001b[39m*\u001b[39;49mrun_kwargs)\n\u001b[1;32m    376\u001b[0m end_time \u001b[39m=\u001b[39m time()\n\u001b[1;32m    377\u001b[0m _log_submission_time(start_time, end_time)\n",
      "File \u001b[0;32m~/.local/lib/python3.10/site-packages/qiskit/utils/deprecation.py:27\u001b[0m, in \u001b[0;36mdeprecate_arguments.<locals>.decorator.<locals>.wrapper\u001b[0;34m(*args, **kwargs)\u001b[0m\n\u001b[1;32m     25\u001b[0m \u001b[39mif\u001b[39;00m kwargs:\n\u001b[1;32m     26\u001b[0m     _rename_kwargs(func\u001b[39m.\u001b[39m\u001b[39m__name__\u001b[39m, kwargs, kwarg_map)\n\u001b[0;32m---> 27\u001b[0m \u001b[39mreturn\u001b[39;00m func(\u001b[39m*\u001b[39;49margs, \u001b[39m*\u001b[39;49m\u001b[39m*\u001b[39;49mkwargs)\n",
      "File \u001b[0;32m~/.local/lib/python3.10/site-packages/qiskit/providers/aer/backends/aerbackend.py:187\u001b[0m, in \u001b[0;36mAerBackend.run\u001b[0;34m(self, circuits, validate, parameter_binds, **run_options)\u001b[0m\n\u001b[1;32m    185\u001b[0m     qobj \u001b[39m=\u001b[39m \u001b[39mself\u001b[39m\u001b[39m.\u001b[39m_assemble(circuits, \u001b[39m*\u001b[39m\u001b[39m*\u001b[39mrun_options)\n\u001b[1;32m    186\u001b[0m \u001b[39melse\u001b[39;00m:\n\u001b[0;32m--> 187\u001b[0m     qobj \u001b[39m=\u001b[39m \u001b[39mself\u001b[39;49m\u001b[39m.\u001b[39;49m_assemble(circuits, parameter_binds\u001b[39m=\u001b[39;49mparameter_binds, \u001b[39m*\u001b[39;49m\u001b[39m*\u001b[39;49mrun_options)\n\u001b[1;32m    189\u001b[0m \u001b[39m# Optional validation\u001b[39;00m\n\u001b[1;32m    190\u001b[0m \u001b[39mif\u001b[39;00m validate:\n",
      "File \u001b[0;32m~/.local/lib/python3.10/site-packages/qiskit/providers/aer/backends/aerbackend.py:396\u001b[0m, in \u001b[0;36mAerBackend._assemble\u001b[0;34m(self, circuits, parameter_binds, **run_options)\u001b[0m\n\u001b[1;32m    390\u001b[0m     qobj \u001b[39m=\u001b[39m assemble(\n\u001b[1;32m    391\u001b[0m         circuits,\n\u001b[1;32m    392\u001b[0m         backend\u001b[39m=\u001b[39m\u001b[39mself\u001b[39m,\n\u001b[1;32m    393\u001b[0m         parameter_binds\u001b[39m=\u001b[39massemble_binds,\n\u001b[1;32m    394\u001b[0m         parameterizations\u001b[39m=\u001b[39mparameterizations)\n\u001b[1;32m    395\u001b[0m \u001b[39melse\u001b[39;00m:\n\u001b[0;32m--> 396\u001b[0m     qobj \u001b[39m=\u001b[39m assemble(circuits, backend\u001b[39m=\u001b[39;49m\u001b[39mself\u001b[39;49m)\n\u001b[1;32m    398\u001b[0m \u001b[39m# Add optypes to qobj\u001b[39;00m\n\u001b[1;32m    399\u001b[0m \u001b[39m# We convert to strings to avoid pybinding of types\u001b[39;00m\n\u001b[1;32m    400\u001b[0m qobj\u001b[39m.\u001b[39mconfig\u001b[39m.\u001b[39moptypes \u001b[39m=\u001b[39m [\n\u001b[1;32m    401\u001b[0m     \u001b[39mset\u001b[39m(i\u001b[39m.\u001b[39m\u001b[39m__name__\u001b[39m \u001b[39mfor\u001b[39;00m i \u001b[39min\u001b[39;00m optype) \u001b[39mif\u001b[39;00m optype \u001b[39melse\u001b[39;00m \u001b[39mset\u001b[39m()\n\u001b[1;32m    402\u001b[0m     \u001b[39mfor\u001b[39;00m optype \u001b[39min\u001b[39;00m optypes]\n",
      "File \u001b[0;32m~/.local/lib/python3.10/site-packages/qiskit/compiler/assembler.py:204\u001b[0m, in \u001b[0;36massemble\u001b[0;34m(experiments, backend, qobj_id, qobj_header, shots, memory, max_credits, seed_simulator, qubit_lo_freq, meas_lo_freq, qubit_lo_range, meas_lo_range, schedule_los, meas_level, meas_return, meas_map, memory_slot_size, rep_time, rep_delay, parameter_binds, parametric_pulses, init_qubits, **run_config)\u001b[0m\n\u001b[1;32m    194\u001b[0m run_config \u001b[39m=\u001b[39m _parse_circuit_args(\n\u001b[1;32m    195\u001b[0m     parameter_binds,\n\u001b[1;32m    196\u001b[0m     backend,\n\u001b[0;32m   (...)\u001b[0m\n\u001b[1;32m    200\u001b[0m     \u001b[39m*\u001b[39m\u001b[39m*\u001b[39mrun_config_common_dict,\n\u001b[1;32m    201\u001b[0m )\n\u001b[1;32m    203\u001b[0m \u001b[39m# If circuits are parameterized, bind parameters and remove from run_config\u001b[39;00m\n\u001b[0;32m--> 204\u001b[0m bound_experiments, run_config \u001b[39m=\u001b[39m _expand_parameters(\n\u001b[1;32m    205\u001b[0m     circuits\u001b[39m=\u001b[39;49mexperiments, run_config\u001b[39m=\u001b[39;49mrun_config\n\u001b[1;32m    206\u001b[0m )\n\u001b[1;32m    207\u001b[0m end_time \u001b[39m=\u001b[39m time()\n\u001b[1;32m    208\u001b[0m _log_assembly_time(start_time, end_time)\n",
      "File \u001b[0;32m~/.local/lib/python3.10/site-packages/qiskit/compiler/assembler.py:595\u001b[0m, in \u001b[0;36m_expand_parameters\u001b[0;34m(circuits, run_config)\u001b[0m\n\u001b[1;32m    588\u001b[0m \u001b[39m# Check that all parameters are common to all circuits and binds\u001b[39;00m\n\u001b[1;32m    589\u001b[0m \u001b[39mif\u001b[39;00m (\n\u001b[1;32m    590\u001b[0m     \u001b[39mnot\u001b[39;00m all_bind_parameters\n\u001b[1;32m    591\u001b[0m     \u001b[39mor\u001b[39;00m \u001b[39mnot\u001b[39;00m all_circuit_parameters\n\u001b[1;32m    592\u001b[0m     \u001b[39mor\u001b[39;00m \u001b[39many\u001b[39m(unique_parameters \u001b[39m!=\u001b[39m bind_params \u001b[39mfor\u001b[39;00m bind_params \u001b[39min\u001b[39;00m all_bind_parameters)\n\u001b[1;32m    593\u001b[0m     \u001b[39mor\u001b[39;00m \u001b[39many\u001b[39m(unique_parameters \u001b[39m!=\u001b[39m parameters \u001b[39mfor\u001b[39;00m parameters \u001b[39min\u001b[39;00m all_circuit_parameters)\n\u001b[1;32m    594\u001b[0m ):\n\u001b[0;32m--> 595\u001b[0m     \u001b[39mraise\u001b[39;00m QiskitError(\n\u001b[1;32m    596\u001b[0m         (\n\u001b[1;32m    597\u001b[0m             \u001b[39m\"\u001b[39m\u001b[39mMismatch between run_config.parameter_binds and all circuit parameters. \u001b[39m\u001b[39m\"\u001b[39m\n\u001b[1;32m    598\u001b[0m             \u001b[39m+\u001b[39m \u001b[39m\"\u001b[39m\u001b[39mParameter binds: \u001b[39m\u001b[39m{}\u001b[39;00m\u001b[39m \u001b[39m\u001b[39m\"\u001b[39m\n\u001b[1;32m    599\u001b[0m             \u001b[39m+\u001b[39m \u001b[39m\"\u001b[39m\u001b[39mCircuit parameters: \u001b[39m\u001b[39m{}\u001b[39;00m\u001b[39m\"\u001b[39m\n\u001b[1;32m    600\u001b[0m         )\u001b[39m.\u001b[39mformat(all_bind_parameters, all_circuit_parameters)\n\u001b[1;32m    601\u001b[0m     )\n\u001b[1;32m    603\u001b[0m circuits \u001b[39m=\u001b[39m [\n\u001b[1;32m    604\u001b[0m     circuit\u001b[39m.\u001b[39mbind_parameters(binds) \u001b[39mfor\u001b[39;00m circuit \u001b[39min\u001b[39;00m circuits \u001b[39mfor\u001b[39;00m binds \u001b[39min\u001b[39;00m parameter_binds\n\u001b[1;32m    605\u001b[0m ]\n\u001b[1;32m    607\u001b[0m \u001b[39m# All parameters have been expanded and bound, so remove from run_config\u001b[39;00m\n",
      "\u001b[0;31mQiskitError\u001b[0m: 'Mismatch between run_config.parameter_binds and all circuit parameters. Parameter binds: [] Circuit parameters: [ParameterView([Parameter(beta: 5), Parameter(beta: 8)])]'"
     ]
    }
   ],
   "source": [
    "##init ~\n",
    "num_repetition = 1\n",
    "\n",
    "## neighbourhood configs ~\n",
    "nbrhd_depth = 2\n",
    "\n",
    "## neighbourhood construction ~\n",
    "n_root= np.random.choice(graph.nodes)\n",
    "nbrhd = set(graph.neighbors(n_root))\n",
    "for depth in range(nbrhd_depth-1):\n",
    "    # print(depth)\n",
    "    # print(nbrhd)\n",
    "    for nbr in nbrhd.copy():\n",
    "        # print(nbr)\n",
    "        nbrhd.update(graph.neighbors(nbr) )    \n",
    "        # print(nbrhd)\n",
    "subgraph = graph.subgraph(nbrhd)\n",
    "\n",
    "## initialize neighbourhood circuit ~\n",
    "num_qubits= subgraph.number_of_nodes()\n",
    "qc= QuantumCircuit()\n",
    "for node in subgraph.nodes :\n",
    "    qc.add_register(QuantumRegister(1, name= 'node: '+str(node)) )\n",
    "qc.add_register(ClassicalRegister(num_qubits, name= 'creg_nodes') )\n",
    "\n",
    "## node to qubit mappings ~\n",
    "mappings = dict(zip(subgraph.nodes, range(num_qubits) ))\n",
    "\n",
    "## intialize circuit with current values of nodes ~\n",
    "for node in subgraph.nodes : \n",
    "    if subgraph.nodes[node]['val'] == 1: qc.x(mappings[node])\n",
    "\n",
    "## neighbourhood ansatz ~\n",
    "mixer_action_nodes = { node for node in subgraph.nodes if list(graph.neighbors(node)) == list(subgraph.neighbors(node))  }\n",
    "betas = dict([( node, Parameter('beta: '+str(node)) ) for node in mixer_action_nodes])\n",
    "gamma = Parameter('gamma')\n",
    "\n",
    "## construct mixers ~\n",
    "mixer_gates = generate_ansatz_mixers(subgraph, mixer_action_nodes, mappings,  betas)\n",
    "\n",
    "for repeat in range(num_repetition):\n",
    "    \n",
    "    ## copy original circuit ~ \n",
    "    qc_t = qc.copy(name= 'qc :'+str(repeat))\n",
    "\n",
    "    ## construct QLS circuit ~\n",
    "    partial_mixer_order = list(itertools.permutations(mixer_gates.keys()))[np.random.randint(low=0,high= math.factorial(len(mixer_gates))  )]\n",
    "    \n",
    "    for mixer_on_node in partial_mixer_order:\n",
    "        qc_t.compose( mixer_gates[mixer_on_node].to_gate(), inplace= True)  \n",
    "    qc_t.barrier()\n",
    "    cost_unitary = generate_cost_gate_mis(subgraph, mappings, gamma)\n",
    "    qc_t.compose(cost_unitary, inplace = True)\n",
    "\n",
    "    ## setup params ~\n",
    "    betas_t = np.random.uniform(low=0, high= 2*pi, size= len(betas))\n",
    "    gamma_t = np.random.uniform(low=0, high= 2*pi) \n",
    "    params_t = np.append(betas_t, gamma_t)\n",
    "    \n",
    "    # params_assignment_dic = dict(list(zip(betas.values(), params_t[:-1])))\n",
    "    # params_assignment_dic[gamma] = params_t[-1]\n",
    "    # qc_t = qc_t.assign_parameters(params_assignment_dic)    \n",
    "\n",
    "    ## paramter optimisation ~\n",
    "    optimisation = minimize( cost_expectation_mis, params_t, (betas, qc_t), method= 'COBYLA' )\n",
    "    \n",
    "\n",
    "\n"
   ]
  },
  {
   "cell_type": "code",
   "execution_count": 9,
   "metadata": {},
   "outputs": [
    {
     "ename": "NameError",
     "evalue": "name 'params_assignment_dic' is not defined",
     "output_type": "error",
     "traceback": [
      "\u001b[0;31m---------------------------------------------------------------------------\u001b[0m",
      "\u001b[0;31mNameError\u001b[0m                                 Traceback (most recent call last)",
      "\u001b[1;32m/home/tomesh/rajarsi/QLS_trial0.1.ipynb Cell 8\u001b[0m in \u001b[0;36m<cell line: 1>\u001b[0;34m()\u001b[0m\n\u001b[0;32m----> <a href='vscode-notebook-cell:/home/tomesh/rajarsi/QLS_trial0.1.ipynb#ch0000008?line=0'>1</a>\u001b[0m qc_t \u001b[39m=\u001b[39m qc_t\u001b[39m.\u001b[39massign_parameters(params_assignment_dic)\n",
      "\u001b[0;31mNameError\u001b[0m: name 'params_assignment_dic' is not defined"
     ]
    }
   ],
   "source": [
    "qc_t = qc_t.assign_parameters(params_assignment_dic)"
   ]
  },
  {
   "cell_type": "code",
   "execution_count": 28,
   "metadata": {},
   "outputs": [
    {
     "data": {
      "text/html": [
       "<pre style=\"word-wrap: normal;white-space: pre;background: #fff0;line-height: 1.1;font-family: &quot;Courier New&quot;,Courier,monospace\">              ┌────────────────────────────┐┌────────────────────────────┐ ░ »\n",
       "     node: 0: ┤0                           ├┤0                           ├─░─»\n",
       "              │                            ││                            │ ░ »\n",
       "     node: 1: ┤1                           ├┤1                           ├─░─»\n",
       "              │                            ││                            │ ░ »\n",
       "     node: 2: ┤2                           ├┤2                           ├─░─»\n",
       "              │  mixer_0(2.54773224285694) ││  mixer_7(5.38999134812801) │ ░ »\n",
       "     node: 5: ┤3                           ├┤3                           ├─░─»\n",
       "              │                            ││                            │ ░ »\n",
       "     node: 6: ┤4                           ├┤4                           ├─░─»\n",
       "              │                            ││                            │ ░ »\n",
       "     node: 7: ┤5                           ├┤5                           ├─░─»\n",
       "              └────────────────────────────┘└────────────────────────────┘ ░ »\n",
       "creg_nodes: 6/═══════════════════════════════════════════════════════════════»\n",
       "                                                                             »\n",
       "«              ┌──────────────────────┐\n",
       "«     node: 0: ┤ Rz(1.88806134256224) ├\n",
       "«              ├──────────────────────┤\n",
       "«     node: 1: ┤ Rz(1.88806134256224) ├\n",
       "«              ├──────────────────────┤\n",
       "«     node: 2: ┤ Rz(1.88806134256224) ├\n",
       "«              ├──────────────────────┤\n",
       "«     node: 5: ┤ Rz(1.88806134256224) ├\n",
       "«              ├──────────────────────┤\n",
       "«     node: 6: ┤ Rz(1.88806134256224) ├\n",
       "«              ├──────────────────────┤\n",
       "«     node: 7: ┤ Rz(1.88806134256224) ├\n",
       "«              └──────────────────────┘\n",
       "«creg_nodes: 6/════════════════════════\n",
       "«                                      </pre>"
      ],
      "text/plain": [
       "              ┌────────────────────────────┐┌────────────────────────────┐ ░ »\n",
       "     node: 0: ┤0                           ├┤0                           ├─░─»\n",
       "              │                            ││                            │ ░ »\n",
       "     node: 1: ┤1                           ├┤1                           ├─░─»\n",
       "              │                            ││                            │ ░ »\n",
       "     node: 2: ┤2                           ├┤2                           ├─░─»\n",
       "              │  mixer_0(2.54773224285694) ││  mixer_7(5.38999134812801) │ ░ »\n",
       "     node: 5: ┤3                           ├┤3                           ├─░─»\n",
       "              │                            ││                            │ ░ »\n",
       "     node: 6: ┤4                           ├┤4                           ├─░─»\n",
       "              │                            ││                            │ ░ »\n",
       "     node: 7: ┤5                           ├┤5                           ├─░─»\n",
       "              └────────────────────────────┘└────────────────────────────┘ ░ »\n",
       "creg_nodes: 6/═══════════════════════════════════════════════════════════════»\n",
       "                                                                             »\n",
       "«              ┌──────────────────────┐\n",
       "«     node: 0: ┤ Rz(1.88806134256224) ├\n",
       "«              ├──────────────────────┤\n",
       "«     node: 1: ┤ Rz(1.88806134256224) ├\n",
       "«              ├──────────────────────┤\n",
       "«     node: 2: ┤ Rz(1.88806134256224) ├\n",
       "«              ├──────────────────────┤\n",
       "«     node: 5: ┤ Rz(1.88806134256224) ├\n",
       "«              ├──────────────────────┤\n",
       "«     node: 6: ┤ Rz(1.88806134256224) ├\n",
       "«              ├──────────────────────┤\n",
       "«     node: 7: ┤ Rz(1.88806134256224) ├\n",
       "«              └──────────────────────┘\n",
       "«creg_nodes: 6/════════════════════════\n",
       "«                                      "
      ]
     },
     "execution_count": 28,
     "metadata": {},
     "output_type": "execute_result"
    }
   ],
   "source": [
    "qc_t.draw()"
   ]
  },
  {
   "cell_type": "code",
   "execution_count": 29,
   "metadata": {},
   "outputs": [
    {
     "data": {
      "text/plain": [
       "(0, 7)"
      ]
     },
     "execution_count": 29,
     "metadata": {},
     "output_type": "execute_result"
    }
   ],
   "source": [
    "partial_mixer_order"
   ]
  },
  {
   "cell_type": "code",
   "execution_count": 30,
   "metadata": {},
   "outputs": [
    {
     "data": {
      "text/plain": [
       "(ParameterView([]),\n",
       " {Parameter(beta: 0): 2.547732242856943,\n",
       "  Parameter(beta: 7): 5.389991348128013,\n",
       "  Parameter(gamma): 1.8880613425622448})"
      ]
     },
     "execution_count": 30,
     "metadata": {},
     "output_type": "execute_result"
    }
   ],
   "source": [
    "qc_t.parameters, params_assignment_dic"
   ]
  },
  {
   "cell_type": "code",
   "execution_count": 31,
   "metadata": {},
   "outputs": [
    {
     "data": {
      "text/plain": [
       "(array([2.54773224, 5.38999135]),\n",
       " 1.8880613425622448,\n",
       " array([2.54773224, 5.38999135, 1.88806134]))"
      ]
     },
     "execution_count": 31,
     "metadata": {},
     "output_type": "execute_result"
    }
   ],
   "source": [
    "betas_t, gamma_t, params_t"
   ]
  },
  {
   "cell_type": "code",
   "execution_count": 24,
   "metadata": {},
   "outputs": [
    {
     "data": {
      "text/plain": [
       "{1: <qiskit.circuit.quantumcircuit.QuantumCircuit at 0x7f540706bd00>,\n",
       " 2: <qiskit.circuit.quantumcircuit.QuantumCircuit at 0x7f540706b550>,\n",
       " 3: <qiskit.circuit.quantumcircuit.QuantumCircuit at 0x7f540706b4f0>,\n",
       " 4: <qiskit.circuit.quantumcircuit.QuantumCircuit at 0x7f540708d690>,\n",
       " 6: <qiskit.circuit.quantumcircuit.QuantumCircuit at 0x7f540708e1a0>,\n",
       " 9: <qiskit.circuit.quantumcircuit.QuantumCircuit at 0x7f540708e230>}"
      ]
     },
     "execution_count": 24,
     "metadata": {},
     "output_type": "execute_result"
    }
   ],
   "source": [
    "mixer_gates"
   ]
  },
  {
   "cell_type": "code",
   "execution_count": 196,
   "metadata": {},
   "outputs": [
    {
     "data": {
      "text/plain": [
       "{Parameter(beta: 0): 3.888349529406253,\n",
       " Parameter(beta: 1): 2.446549762365972,\n",
       " Parameter(beta: 2): 6.01393672169364,\n",
       " Parameter(beta: 5): 5.331974502734289,\n",
       " Parameter(beta: 6): 3.684450639966006,\n",
       " Parameter(beta: 7): 2.0226361956587002,\n",
       " Parameter(beta: 8): 5.015110025135585,\n",
       " Parameter(beta: 9): 0.08394993521912043}"
      ]
     },
     "execution_count": 196,
     "metadata": {},
     "output_type": "execute_result"
    }
   ],
   "source": [
    "dict(list(zip(betas.values(), betas_t)))"
   ]
  },
  {
   "cell_type": "code",
   "execution_count": 185,
   "metadata": {},
   "outputs": [
    {
     "data": {
      "text/html": [
       "<pre style=\"word-wrap: normal;white-space: pre;background: #fff0;line-height: 1.1;font-family: &quot;Courier New&quot;,Courier,monospace\">              ┌───────────────────┐ ░ ┌────────┐\n",
       "     node: 1: ┤0                  ├─░─┤ Rz(2π) ├\n",
       "              │                   │ ░ ├────────┤\n",
       "     node: 2: ┤1                  ├─░─┤ Rz(2π) ├\n",
       "              │                   │ ░ ├────────┤\n",
       "     node: 3: ┤2                  ├─░─┤ Rz(2π) ├\n",
       "              │                   │ ░ ├────────┤\n",
       "     node: 4: ┤3                  ├─░─┤ Rz(2π) ├\n",
       "              │  mixer_6(beta: 6) │ ░ ├────────┤\n",
       "     node: 5: ┤4                  ├─░─┤ Rz(2π) ├\n",
       "              │                   │ ░ ├────────┤\n",
       "     node: 6: ┤5                  ├─░─┤ Rz(2π) ├\n",
       "              │                   │ ░ ├────────┤\n",
       "     node: 7: ┤6                  ├─░─┤ Rz(2π) ├\n",
       "              │                   │ ░ ├────────┤\n",
       "     node: 9: ┤7                  ├─░─┤ Rz(2π) ├\n",
       "              └───────────────────┘ ░ └────────┘\n",
       "creg_nodes: 8/══════════════════════════════════\n",
       "                                                </pre>"
      ],
      "text/plain": [
       "              ┌───────────────────┐ ░ ┌────────┐\n",
       "     node: 1: ┤0                  ├─░─┤ Rz(2π) ├\n",
       "              │                   │ ░ ├────────┤\n",
       "     node: 2: ┤1                  ├─░─┤ Rz(2π) ├\n",
       "              │                   │ ░ ├────────┤\n",
       "     node: 3: ┤2                  ├─░─┤ Rz(2π) ├\n",
       "              │                   │ ░ ├────────┤\n",
       "     node: 4: ┤3                  ├─░─┤ Rz(2π) ├\n",
       "              │  mixer_6(beta: 6) │ ░ ├────────┤\n",
       "     node: 5: ┤4                  ├─░─┤ Rz(2π) ├\n",
       "              │                   │ ░ ├────────┤\n",
       "     node: 6: ┤5                  ├─░─┤ Rz(2π) ├\n",
       "              │                   │ ░ ├────────┤\n",
       "     node: 7: ┤6                  ├─░─┤ Rz(2π) ├\n",
       "              │                   │ ░ ├────────┤\n",
       "     node: 9: ┤7                  ├─░─┤ Rz(2π) ├\n",
       "              └───────────────────┘ ░ └────────┘\n",
       "creg_nodes: 8/══════════════════════════════════\n",
       "                                                "
      ]
     },
     "execution_count": 185,
     "metadata": {},
     "output_type": "execute_result"
    }
   ],
   "source": [
    "qc_t.assign_parameters({gamma: pi*2}).draw()\n",
    "# betas[5] = pi\n",
    "# qc_t.draw()\n"
   ]
  },
  {
   "cell_type": "code",
   "execution_count": 174,
   "metadata": {},
   "outputs": [
    {
     "data": {
      "text/plain": [
       "ParameterView([Parameter(beta_1), Parameter(beta_2), Parameter(beta_3), Parameter(beta_4), Parameter(beta_6), Parameter(beta_9), Parameter(gamma)])"
      ]
     },
     "execution_count": 174,
     "metadata": {},
     "output_type": "execute_result"
    }
   ],
   "source": [
    "qc.parameters"
   ]
  },
  {
   "cell_type": "code",
   "execution_count": 75,
   "metadata": {},
   "outputs": [
    {
     "data": {
      "text/plain": [
       "True"
      ]
     },
     "execution_count": 75,
     "metadata": {},
     "output_type": "execute_result"
    }
   ],
   "source": [
    "mixer_gates[7] == mixer_gates[partial_mixer_order[0]]"
   ]
  },
  {
   "cell_type": "code",
   "execution_count": 103,
   "metadata": {},
   "outputs": [
    {
     "data": {
      "text/plain": [
       "2"
      ]
     },
     "execution_count": 103,
     "metadata": {},
     "output_type": "execute_result"
    }
   ],
   "source": [
    "s = '101'\n",
    "s.count('1')"
   ]
  },
  {
   "cell_type": "code",
   "execution_count": 140,
   "metadata": {},
   "outputs": [
    {
     "data": {
      "text/plain": [
       "({0, 1, 2, 6, 7, 9}, NodeView((0, 1, 2, 3, 5, 6, 7, 9)))"
      ]
     },
     "execution_count": 140,
     "metadata": {},
     "output_type": "execute_result"
    }
   ],
   "source": [
    "ansatz_set, subgraph.nodes"
   ]
  },
  {
   "cell_type": "code",
   "execution_count": 141,
   "metadata": {},
   "outputs": [
    {
     "data": {
      "text/plain": [
       "False"
      ]
     },
     "execution_count": 141,
     "metadata": {},
     "output_type": "execute_result"
    }
   ],
   "source": [
    "n = 3\n",
    "list(graph.neighbors(n)) == list(subgraph.neighbors(n))"
   ]
  },
  {
   "cell_type": "code",
   "execution_count": 149,
   "metadata": {},
   "outputs": [],
   "source": [
    "qreg1 =QuantumRegister(1)\n",
    "qreg2 = QuantumRegister(2)\n",
    "\n",
    "qc = QuantumCircuit(qreg1, qreg2)"
   ]
  },
  {
   "cell_type": "code",
   "execution_count": 103,
   "metadata": {},
   "outputs": [
    {
     "data": {
      "text/plain": [
       "0"
      ]
     },
     "execution_count": 103,
     "metadata": {},
     "output_type": "execute_result"
    }
   ],
   "source": [
    "nbrhd\n",
    "graph.nodes[2]['val']"
   ]
  },
  {
   "cell_type": "code",
   "execution_count": 150,
   "metadata": {},
   "outputs": [],
   "source": [
    "qc.add_register(QuantumRegister(2))"
   ]
  },
  {
   "cell_type": "code",
   "execution_count": 151,
   "metadata": {},
   "outputs": [
    {
     "data": {
      "text/html": [
       "<pre style=\"word-wrap: normal;white-space: pre;background: #fff0;line-height: 1.1;font-family: &quot;Courier New&quot;,Courier,monospace\">      \n",
       "  q5: \n",
       "      \n",
       "q6_0: \n",
       "      \n",
       "q6_1: \n",
       "      \n",
       "q7_0: \n",
       "      \n",
       "q7_1: \n",
       "      </pre>"
      ],
      "text/plain": [
       "      \n",
       "  q5: \n",
       "      \n",
       "q6_0: \n",
       "      \n",
       "q6_1: \n",
       "      \n",
       "q7_0: \n",
       "      \n",
       "q7_1: \n",
       "      "
      ]
     },
     "execution_count": 151,
     "metadata": {},
     "output_type": "execute_result"
    }
   ],
   "source": [
    "qc.draw()"
   ]
  },
  {
   "cell_type": "code",
   "execution_count": 152,
   "metadata": {},
   "outputs": [
    {
     "data": {
      "text/plain": [
       "[1, 3, 4, 6]"
      ]
     },
     "execution_count": 152,
     "metadata": {},
     "output_type": "execute_result"
    }
   ],
   "source": [
    "set = {3,6,1,4}\n",
    "list(set)"
   ]
  },
  {
   "cell_type": "code",
   "execution_count": 161,
   "metadata": {},
   "outputs": [],
   "source": [
    "it = enumerate(set)"
   ]
  },
  {
   "cell_type": "code",
   "execution_count": 162,
   "metadata": {},
   "outputs": [
    {
     "data": {
      "text/plain": [
       "[(0, 1), (1, 3), (2, 4), (3, 6)]"
      ]
     },
     "execution_count": 162,
     "metadata": {},
     "output_type": "execute_result"
    }
   ],
   "source": [
    "l = list(it)\n",
    "l"
   ]
  },
  {
   "cell_type": "code",
   "execution_count": 165,
   "metadata": {},
   "outputs": [
    {
     "data": {
      "text/plain": [
       "1"
      ]
     },
     "execution_count": 165,
     "metadata": {},
     "output_type": "execute_result"
    }
   ],
   "source": [
    "l[0][1]"
   ]
  },
  {
   "cell_type": "code",
   "execution_count": null,
   "metadata": {},
   "outputs": [],
   "source": []
  }
 ],
 "metadata": {
  "kernelspec": {
   "display_name": "Python 3.10.4 64-bit",
   "language": "python",
   "name": "python3"
  },
  "language_info": {
   "codemirror_mode": {
    "name": "ipython",
    "version": 3
   },
   "file_extension": ".py",
   "mimetype": "text/x-python",
   "name": "python",
   "nbconvert_exporter": "python",
   "pygments_lexer": "ipython3",
   "version": "3.10.4"
  },
  "orig_nbformat": 4,
  "vscode": {
   "interpreter": {
    "hash": "916dbcbb3f70747c44a77c7bcd40155683ae19c65e1c03b4aa3499c5328201f1"
   }
  }
 },
 "nbformat": 4,
 "nbformat_minor": 2
}
